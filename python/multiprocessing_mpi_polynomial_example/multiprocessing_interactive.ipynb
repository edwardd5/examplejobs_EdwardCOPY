{
 "cells": [
  {
   "cell_type": "markdown",
   "metadata": {},
   "source": [
    "The serial part"
   ]
  },
  {
   "cell_type": "code",
   "execution_count": null,
   "metadata": {},
   "outputs": [],
   "source": [
    "import numpy as np\n",
    "import matplotlib.pyplot as plt\n",
    "import time\n",
    "import pandas as pd\n",
    "from poly_fun import noisy_even_polynomial_analysis as noise_poly"
   ]
  },
  {
   "cell_type": "code",
   "execution_count": null,
   "metadata": {},
   "outputs": [],
   "source": [
    "## Do fitting to noisy polynomial data\n",
    "## Function signature is:\n",
    "### original_coeff, fitted_coeff, noisy_data = \n",
    "### noisy_even_polynomial_analysis(rand_seed, sym_domain, print_statements=False, plots=False)\n",
    "\n",
    "start = time.time()\n",
    "original_coeff, fitted_coeff, noisy_data = noise_poly(0, 10., print_statements=True, plots=True)\n",
    "# original_coeff, fitted_coeff, noisy_data = noise_poly(0, 10.)\n",
    "end = time.time()"
   ]
  },
  {
   "cell_type": "code",
   "execution_count": null,
   "metadata": {},
   "outputs": [],
   "source": [
    "print(type(original_coeff), type(fitted_coeff), type(noisy_data))\n",
    "print(original_coeff.shape, fitted_coeff.shape, noisy_data.shape)\n",
    "print('execution time : ', end - start)\n",
    "print('original coefficients : ', original_coeff)\n",
    "print('fitted coefficients : ', fitted_coeff)"
   ]
  },
  {
   "cell_type": "code",
   "execution_count": null,
   "metadata": {},
   "outputs": [],
   "source": [
    "## Repeat this analysis a bunch of times (in series)\n",
    "num_trials = 250000\n",
    "seeds = range(num_trials)\n",
    "domain = 10.\n",
    "\n",
    "## Initialize a list to store the results \n",
    "results = []\n",
    "\n",
    "start = time.time()\n",
    "## Loop over seeds \n",
    "for seed in seeds:\n",
    "\toriginal_coeff, fitted_coeff, noisy_data = noise_poly(seed, domain)\n",
    "\tresults.append({\"seed\": seed,\"original_coeff\": original_coeff,\\\n",
    "\t \"fitted_coeff\": fitted_coeff,\"noisy_data\": noisy_data})\n",
    "\n",
    "## Convert results to a Pandas DataFrame\n",
    "df = pd.DataFrame(results)\n",
    "end = time.time()\n",
    "\n",
    "## Display the DataFrame\n",
    "print(df)\n",
    "\n",
    "print('execution time (serial) : ', end - start)\n"
   ]
  },
  {
   "cell_type": "markdown",
   "metadata": {},
   "source": [
    "What does it look like if I run `top -u <MY_NETID>` on the node that my job is running on?\n",
    "\n",
    "![a screenshot of a terminal running top](./imgs/serial_top.png \"Series top\")"
   ]
  },
  {
   "cell_type": "code",
   "execution_count": null,
   "metadata": {},
   "outputs": [],
   "source": [
    "## Sanity check\n",
    "print(type(results))\n",
    "print(results[400]['seed'])\n",
    "print(results[400]['original_coeff'].shape)\n",
    "print(results[400]['fitted_coeff'].shape)\n",
    "print(results[400]['noisy_data'].shape)"
   ]
  },
  {
   "cell_type": "markdown",
   "metadata": {},
   "source": [
    "The parallel part"
   ]
  },
  {
   "cell_type": "code",
   "execution_count": null,
   "metadata": {},
   "outputs": [],
   "source": [
    "import multiprocessing\n",
    "from multiprocessing import Pool\n",
    "import os"
   ]
  },
  {
   "cell_type": "code",
   "execution_count": null,
   "metadata": {},
   "outputs": [],
   "source": [
    "## How many tasks (hopefully it is the same as what we got from SLURM)?\n",
    "print(\"Number of cpus Python thinks you have : \", multiprocessing.cpu_count())\n",
    "\n",
    "## How to get the number from SLURM environmental variable?\n",
    "ncpus = int(os.environ[\"SLURM_NTASKS\"])\n",
    "print(\"Number of cpus you asked for from SLURM : \", ncpus)"
   ]
  },
  {
   "cell_type": "code",
   "execution_count": null,
   "metadata": {},
   "outputs": [],
   "source": [
    "## Define a helper function for each parallel worker \n",
    "def worker(args):\n",
    "\t## Unpack the arguments\n",
    "\tseed, domain = args\n",
    "\t## Call the function that does the work\n",
    "\toriginal_coeff, fitted_coeff, noisy_data = noise_poly(seed, domain)\n",
    "\t## Reformat the output\n",
    "\toutput = {\"seed\": seed,\"original_coeff\": original_coeff,\\\n",
    "\t \"fitted_coeff\": fitted_coeff,\"noisy_data\": noisy_data}\n",
    "\t## Return the output\n",
    "\treturn output\n",
    "\n",
    "## Create argument tuples \n",
    "arguments = [(seed, domain) for seed in seeds]"
   ]
  },
  {
   "cell_type": "code",
   "execution_count": null,
   "metadata": {},
   "outputs": [],
   "source": [
    "# Parallel processing with Pool\n",
    "start = time.time()\n",
    "## ncpus should be the number of cores you asked SLURM for\n",
    "with Pool(ncpus) as pool:\n",
    "    results = pool.map(worker, arguments)\n",
    "\n",
    "# Convert results to a Pandas DataFrame\n",
    "df = pd.DataFrame(results)\n",
    "end = time.time()\n",
    "\n",
    "# Display the DataFrame\n",
    "print(df)\n",
    "\n",
    "print('execution time (serial) : ', end - start)"
   ]
  },
  {
   "cell_type": "markdown",
   "metadata": {},
   "source": [
    "What does it look like if I run `top -u <MY_NETID>` on the node that my job is running on?\n",
    "\n",
    "![a screenshot of a terminal running top](./imgs/parallel_top.png \"Parallel top\")"
   ]
  },
  {
   "cell_type": "code",
   "execution_count": null,
   "metadata": {},
   "outputs": [],
   "source": [
    "## Sanity check\n",
    "print(type(results))\n",
    "print(results[0])"
   ]
  },
  {
   "cell_type": "markdown",
   "metadata": {},
   "source": [
    "Results:\n",
    "\n",
    "Using the scripts run_poly_analysis_parallel.py and multiprocessing_poly_submission.sh, I ran 250000 trials of the polynomial fitting with using multiprocessing to parallelize over different numbers of cores. Below are the results for script execution time vs. number of cores and parallel speedup vs. number of cores. Speedup(N) = (time to run script serially (with one core))/(time to run script parallelized over N cores). \n",
    "\n",
    "![a graph of parallel execution time](./imgs/parallel_execution_time.png \"Parallel execution time\")\n",
    "\n",
    "![a graph of parallel speedup](./imgs/parallel_speedup.png \"Parallel speedup\")"
   ]
  },
  {
   "cell_type": "code",
   "execution_count": null,
   "metadata": {},
   "outputs": [],
   "source": []
  }
 ],
 "metadata": {
  "kernelspec": {
   "display_name": "Python (py311_parallel)",
   "language": "python",
   "name": "jupyter-kernel-py311-parallel"
  },
  "language_info": {
   "codemirror_mode": {
    "name": "ipython",
    "version": 3
   },
   "file_extension": ".py",
   "mimetype": "text/x-python",
   "name": "python",
   "nbconvert_exporter": "python",
   "pygments_lexer": "ipython3",
   "version": "3.11.11"
  }
 },
 "nbformat": 4,
 "nbformat_minor": 4
}
